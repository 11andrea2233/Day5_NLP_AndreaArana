{
  "nbformat": 4,
  "nbformat_minor": 0,
  "metadata": {
    "colab": {
      "provenance": []
    },
    "kernelspec": {
      "name": "python3",
      "display_name": "Python 3"
    },
    "language_info": {
      "name": "python"
    }
  },
  "cells": [
    {
      "cell_type": "code",
      "execution_count": 51,
      "metadata": {
        "colab": {
          "base_uri": "https://localhost:8080/"
        },
        "id": "wDSJlRW9HojN",
        "outputId": "96cd302d-1d00-452e-8854-a34af02c5be8"
      },
      "outputs": [
        {
          "output_type": "stream",
          "name": "stdout",
          "text": [
            "Requirement already satisfied: openai==0.28.1 in /usr/local/lib/python3.10/dist-packages (0.28.1)\n",
            "Requirement already satisfied: requests>=2.20 in /usr/local/lib/python3.10/dist-packages (from openai==0.28.1) (2.32.3)\n",
            "Requirement already satisfied: tqdm in /usr/local/lib/python3.10/dist-packages (from openai==0.28.1) (4.66.6)\n",
            "Requirement already satisfied: aiohttp in /usr/local/lib/python3.10/dist-packages (from openai==0.28.1) (3.10.10)\n",
            "Requirement already satisfied: charset-normalizer<4,>=2 in /usr/local/lib/python3.10/dist-packages (from requests>=2.20->openai==0.28.1) (3.4.0)\n",
            "Requirement already satisfied: idna<4,>=2.5 in /usr/local/lib/python3.10/dist-packages (from requests>=2.20->openai==0.28.1) (3.10)\n",
            "Requirement already satisfied: urllib3<3,>=1.21.1 in /usr/local/lib/python3.10/dist-packages (from requests>=2.20->openai==0.28.1) (2.2.3)\n",
            "Requirement already satisfied: certifi>=2017.4.17 in /usr/local/lib/python3.10/dist-packages (from requests>=2.20->openai==0.28.1) (2024.8.30)\n",
            "Requirement already satisfied: aiohappyeyeballs>=2.3.0 in /usr/local/lib/python3.10/dist-packages (from aiohttp->openai==0.28.1) (2.4.3)\n",
            "Requirement already satisfied: aiosignal>=1.1.2 in /usr/local/lib/python3.10/dist-packages (from aiohttp->openai==0.28.1) (1.3.1)\n",
            "Requirement already satisfied: attrs>=17.3.0 in /usr/local/lib/python3.10/dist-packages (from aiohttp->openai==0.28.1) (24.2.0)\n",
            "Requirement already satisfied: frozenlist>=1.1.1 in /usr/local/lib/python3.10/dist-packages (from aiohttp->openai==0.28.1) (1.5.0)\n",
            "Requirement already satisfied: multidict<7.0,>=4.5 in /usr/local/lib/python3.10/dist-packages (from aiohttp->openai==0.28.1) (6.1.0)\n",
            "Requirement already satisfied: yarl<2.0,>=1.12.0 in /usr/local/lib/python3.10/dist-packages (from aiohttp->openai==0.28.1) (1.17.1)\n",
            "Requirement already satisfied: async-timeout<5.0,>=4.0 in /usr/local/lib/python3.10/dist-packages (from aiohttp->openai==0.28.1) (4.0.3)\n",
            "Requirement already satisfied: typing-extensions>=4.1.0 in /usr/local/lib/python3.10/dist-packages (from multidict<7.0,>=4.5->aiohttp->openai==0.28.1) (4.12.2)\n",
            "Requirement already satisfied: propcache>=0.2.0 in /usr/local/lib/python3.10/dist-packages (from yarl<2.0,>=1.12.0->aiohttp->openai==0.28.1) (0.2.0)\n",
            "Requirement already satisfied: fpdf==1.7.2 in /usr/local/lib/python3.10/dist-packages (1.7.2)\n"
          ]
        }
      ],
      "source": [
        "!pip install openai==0.28.1\n",
        "!pip install fpdf==1.7.2\n"
      ]
    },
    {
      "cell_type": "code",
      "source": [
        "import pandas as pd\n",
        "import openai\n",
        "import time\n",
        "from fpdf import FPDF\n",
        "from google.colab import userdata\n",
        "\n",
        "openai.api_key = userdata.get(\"OPENAI_API_KEY\")"
      ],
      "metadata": {
        "id": "EB1hT2WGHzpM"
      },
      "execution_count": 52,
      "outputs": []
    },
    {
      "cell_type": "code",
      "source": [
        "df = pd.read_csv('https://raw.githubusercontent.com/11andrea2233/RAG-Healthcare-Database/refs/heads/main/Database.csv')"
      ],
      "metadata": {
        "id": "eAb-Hh6YIJHn"
      },
      "execution_count": 53,
      "outputs": []
    },
    {
      "cell_type": "code",
      "source": [
        "df.sample(5)"
      ],
      "metadata": {
        "colab": {
          "base_uri": "https://localhost:8080/",
          "height": 377
        },
        "id": "884BJ6NoSWw9",
        "outputId": "0872c125-aa21-425f-c0bd-7d8818cdd345"
      },
      "execution_count": 54,
      "outputs": [
        {
          "output_type": "execute_result",
          "data": {
            "text/plain": [
              "   Patient ID First Name Last Name         DOB Gender    Address Phone Number  \\\n",
              "4       P0005      Alice      Wong    1/5/2002      F  ZIP 78901     555-6789   \n",
              "1       P0002      Sarah       Lee   7/20/1982      F  ZIP 67890     555-5678   \n",
              "7       P0008     Robert     Davis   9/25/1978      M  ZIP 66778     555-2222   \n",
              "16      P0017       Lily  Martinez  12/11/1973      F  ZIP 99877     555-1212   \n",
              "5       P0006    Michael     Brown   4/12/1985      M  ZIP 11223     555-1010   \n",
              "\n",
              "   Emergency Contact Smoking Status Alcohol Consumption  ...  \\\n",
              "4         Nancy Wong     Non-Smoker                 NaN  ...   \n",
              "1           Mike Lee         Smoker               Heavy  ...   \n",
              "7          Ann Davis      Ex-Smoker            Moderate  ...   \n",
              "16      Max Martinez     Non-Smoker               Light  ...   \n",
              "5         Lisa Brown         Smoker            Moderate  ...   \n",
              "\n",
              "              Condition(s) Allergy        Medications BP (mmHg) BMI  \\\n",
              "4                      NaN     NaN                NaN    110/70  22   \n",
              "1          Diabetes Type 2   Latex    Metformin 500mg    140/90  32   \n",
              "7                     COPD     NaN  Albuterol Inhaler    130/80  29   \n",
              "16            Hypertension     NaN    Lisinopril 10mg    130/85  27   \n",
              "5   Hypertension, Diabetes   Sulfa    Lisinopril 10mg    150/95  30   \n",
              "\n",
              "    Last Visit Diagnosis Code             Treatment Insurance Provider  \\\n",
              "4    11/5/2024         Z00.00       General Checkup       Youth Health   \n",
              "1   10/25/2024            E11         Diabetes Mgmt      Wellness Plan   \n",
              "7    11/6/2024          J44.9      Respiratory Mgmt           CarePlus   \n",
              "16   11/6/2024            I10  Blood Pressure Check           Medicare   \n",
              "5    11/2/2024       E11, I10     Chronic Care Mgmt           Medicare   \n",
              "\n",
              "   Amount Billed  \n",
              "4           $80   \n",
              "1          $200   \n",
              "7          $175   \n",
              "16         $160   \n",
              "5          $250   \n",
              "\n",
              "[5 rows x 21 columns]"
            ],
            "text/html": [
              "\n",
              "  <div id=\"df-8bdb8657-5b4d-4695-9160-dbda1406ac54\" class=\"colab-df-container\">\n",
              "    <div>\n",
              "<style scoped>\n",
              "    .dataframe tbody tr th:only-of-type {\n",
              "        vertical-align: middle;\n",
              "    }\n",
              "\n",
              "    .dataframe tbody tr th {\n",
              "        vertical-align: top;\n",
              "    }\n",
              "\n",
              "    .dataframe thead th {\n",
              "        text-align: right;\n",
              "    }\n",
              "</style>\n",
              "<table border=\"1\" class=\"dataframe\">\n",
              "  <thead>\n",
              "    <tr style=\"text-align: right;\">\n",
              "      <th></th>\n",
              "      <th>Patient ID</th>\n",
              "      <th>First Name</th>\n",
              "      <th>Last Name</th>\n",
              "      <th>DOB</th>\n",
              "      <th>Gender</th>\n",
              "      <th>Address</th>\n",
              "      <th>Phone Number</th>\n",
              "      <th>Emergency Contact</th>\n",
              "      <th>Smoking Status</th>\n",
              "      <th>Alcohol Consumption</th>\n",
              "      <th>...</th>\n",
              "      <th>Condition(s)</th>\n",
              "      <th>Allergy</th>\n",
              "      <th>Medications</th>\n",
              "      <th>BP (mmHg)</th>\n",
              "      <th>BMI</th>\n",
              "      <th>Last Visit</th>\n",
              "      <th>Diagnosis Code</th>\n",
              "      <th>Treatment</th>\n",
              "      <th>Insurance Provider</th>\n",
              "      <th>Amount Billed</th>\n",
              "    </tr>\n",
              "  </thead>\n",
              "  <tbody>\n",
              "    <tr>\n",
              "      <th>4</th>\n",
              "      <td>P0005</td>\n",
              "      <td>Alice</td>\n",
              "      <td>Wong</td>\n",
              "      <td>1/5/2002</td>\n",
              "      <td>F</td>\n",
              "      <td>ZIP 78901</td>\n",
              "      <td>555-6789</td>\n",
              "      <td>Nancy Wong</td>\n",
              "      <td>Non-Smoker</td>\n",
              "      <td>NaN</td>\n",
              "      <td>...</td>\n",
              "      <td>NaN</td>\n",
              "      <td>NaN</td>\n",
              "      <td>NaN</td>\n",
              "      <td>110/70</td>\n",
              "      <td>22</td>\n",
              "      <td>11/5/2024</td>\n",
              "      <td>Z00.00</td>\n",
              "      <td>General Checkup</td>\n",
              "      <td>Youth Health</td>\n",
              "      <td>$80</td>\n",
              "    </tr>\n",
              "    <tr>\n",
              "      <th>1</th>\n",
              "      <td>P0002</td>\n",
              "      <td>Sarah</td>\n",
              "      <td>Lee</td>\n",
              "      <td>7/20/1982</td>\n",
              "      <td>F</td>\n",
              "      <td>ZIP 67890</td>\n",
              "      <td>555-5678</td>\n",
              "      <td>Mike Lee</td>\n",
              "      <td>Smoker</td>\n",
              "      <td>Heavy</td>\n",
              "      <td>...</td>\n",
              "      <td>Diabetes Type 2</td>\n",
              "      <td>Latex</td>\n",
              "      <td>Metformin 500mg</td>\n",
              "      <td>140/90</td>\n",
              "      <td>32</td>\n",
              "      <td>10/25/2024</td>\n",
              "      <td>E11</td>\n",
              "      <td>Diabetes Mgmt</td>\n",
              "      <td>Wellness Plan</td>\n",
              "      <td>$200</td>\n",
              "    </tr>\n",
              "    <tr>\n",
              "      <th>7</th>\n",
              "      <td>P0008</td>\n",
              "      <td>Robert</td>\n",
              "      <td>Davis</td>\n",
              "      <td>9/25/1978</td>\n",
              "      <td>M</td>\n",
              "      <td>ZIP 66778</td>\n",
              "      <td>555-2222</td>\n",
              "      <td>Ann Davis</td>\n",
              "      <td>Ex-Smoker</td>\n",
              "      <td>Moderate</td>\n",
              "      <td>...</td>\n",
              "      <td>COPD</td>\n",
              "      <td>NaN</td>\n",
              "      <td>Albuterol Inhaler</td>\n",
              "      <td>130/80</td>\n",
              "      <td>29</td>\n",
              "      <td>11/6/2024</td>\n",
              "      <td>J44.9</td>\n",
              "      <td>Respiratory Mgmt</td>\n",
              "      <td>CarePlus</td>\n",
              "      <td>$175</td>\n",
              "    </tr>\n",
              "    <tr>\n",
              "      <th>16</th>\n",
              "      <td>P0017</td>\n",
              "      <td>Lily</td>\n",
              "      <td>Martinez</td>\n",
              "      <td>12/11/1973</td>\n",
              "      <td>F</td>\n",
              "      <td>ZIP 99877</td>\n",
              "      <td>555-1212</td>\n",
              "      <td>Max Martinez</td>\n",
              "      <td>Non-Smoker</td>\n",
              "      <td>Light</td>\n",
              "      <td>...</td>\n",
              "      <td>Hypertension</td>\n",
              "      <td>NaN</td>\n",
              "      <td>Lisinopril 10mg</td>\n",
              "      <td>130/85</td>\n",
              "      <td>27</td>\n",
              "      <td>11/6/2024</td>\n",
              "      <td>I10</td>\n",
              "      <td>Blood Pressure Check</td>\n",
              "      <td>Medicare</td>\n",
              "      <td>$160</td>\n",
              "    </tr>\n",
              "    <tr>\n",
              "      <th>5</th>\n",
              "      <td>P0006</td>\n",
              "      <td>Michael</td>\n",
              "      <td>Brown</td>\n",
              "      <td>4/12/1985</td>\n",
              "      <td>M</td>\n",
              "      <td>ZIP 11223</td>\n",
              "      <td>555-1010</td>\n",
              "      <td>Lisa Brown</td>\n",
              "      <td>Smoker</td>\n",
              "      <td>Moderate</td>\n",
              "      <td>...</td>\n",
              "      <td>Hypertension, Diabetes</td>\n",
              "      <td>Sulfa</td>\n",
              "      <td>Lisinopril 10mg</td>\n",
              "      <td>150/95</td>\n",
              "      <td>30</td>\n",
              "      <td>11/2/2024</td>\n",
              "      <td>E11, I10</td>\n",
              "      <td>Chronic Care Mgmt</td>\n",
              "      <td>Medicare</td>\n",
              "      <td>$250</td>\n",
              "    </tr>\n",
              "  </tbody>\n",
              "</table>\n",
              "<p>5 rows × 21 columns</p>\n",
              "</div>\n",
              "    <div class=\"colab-df-buttons\">\n",
              "\n",
              "  <div class=\"colab-df-container\">\n",
              "    <button class=\"colab-df-convert\" onclick=\"convertToInteractive('df-8bdb8657-5b4d-4695-9160-dbda1406ac54')\"\n",
              "            title=\"Convert this dataframe to an interactive table.\"\n",
              "            style=\"display:none;\">\n",
              "\n",
              "  <svg xmlns=\"http://www.w3.org/2000/svg\" height=\"24px\" viewBox=\"0 -960 960 960\">\n",
              "    <path d=\"M120-120v-720h720v720H120Zm60-500h600v-160H180v160Zm220 220h160v-160H400v160Zm0 220h160v-160H400v160ZM180-400h160v-160H180v160Zm440 0h160v-160H620v160ZM180-180h160v-160H180v160Zm440 0h160v-160H620v160Z\"/>\n",
              "  </svg>\n",
              "    </button>\n",
              "\n",
              "  <style>\n",
              "    .colab-df-container {\n",
              "      display:flex;\n",
              "      gap: 12px;\n",
              "    }\n",
              "\n",
              "    .colab-df-convert {\n",
              "      background-color: #E8F0FE;\n",
              "      border: none;\n",
              "      border-radius: 50%;\n",
              "      cursor: pointer;\n",
              "      display: none;\n",
              "      fill: #1967D2;\n",
              "      height: 32px;\n",
              "      padding: 0 0 0 0;\n",
              "      width: 32px;\n",
              "    }\n",
              "\n",
              "    .colab-df-convert:hover {\n",
              "      background-color: #E2EBFA;\n",
              "      box-shadow: 0px 1px 2px rgba(60, 64, 67, 0.3), 0px 1px 3px 1px rgba(60, 64, 67, 0.15);\n",
              "      fill: #174EA6;\n",
              "    }\n",
              "\n",
              "    .colab-df-buttons div {\n",
              "      margin-bottom: 4px;\n",
              "    }\n",
              "\n",
              "    [theme=dark] .colab-df-convert {\n",
              "      background-color: #3B4455;\n",
              "      fill: #D2E3FC;\n",
              "    }\n",
              "\n",
              "    [theme=dark] .colab-df-convert:hover {\n",
              "      background-color: #434B5C;\n",
              "      box-shadow: 0px 1px 3px 1px rgba(0, 0, 0, 0.15);\n",
              "      filter: drop-shadow(0px 1px 2px rgba(0, 0, 0, 0.3));\n",
              "      fill: #FFFFFF;\n",
              "    }\n",
              "  </style>\n",
              "\n",
              "    <script>\n",
              "      const buttonEl =\n",
              "        document.querySelector('#df-8bdb8657-5b4d-4695-9160-dbda1406ac54 button.colab-df-convert');\n",
              "      buttonEl.style.display =\n",
              "        google.colab.kernel.accessAllowed ? 'block' : 'none';\n",
              "\n",
              "      async function convertToInteractive(key) {\n",
              "        const element = document.querySelector('#df-8bdb8657-5b4d-4695-9160-dbda1406ac54');\n",
              "        const dataTable =\n",
              "          await google.colab.kernel.invokeFunction('convertToInteractive',\n",
              "                                                    [key], {});\n",
              "        if (!dataTable) return;\n",
              "\n",
              "        const docLinkHtml = 'Like what you see? Visit the ' +\n",
              "          '<a target=\"_blank\" href=https://colab.research.google.com/notebooks/data_table.ipynb>data table notebook</a>'\n",
              "          + ' to learn more about interactive tables.';\n",
              "        element.innerHTML = '';\n",
              "        dataTable['output_type'] = 'display_data';\n",
              "        await google.colab.output.renderOutput(dataTable, element);\n",
              "        const docLink = document.createElement('div');\n",
              "        docLink.innerHTML = docLinkHtml;\n",
              "        element.appendChild(docLink);\n",
              "      }\n",
              "    </script>\n",
              "  </div>\n",
              "\n",
              "\n",
              "<div id=\"df-6924a147-46e1-4558-96ce-45ff2877207e\">\n",
              "  <button class=\"colab-df-quickchart\" onclick=\"quickchart('df-6924a147-46e1-4558-96ce-45ff2877207e')\"\n",
              "            title=\"Suggest charts\"\n",
              "            style=\"display:none;\">\n",
              "\n",
              "<svg xmlns=\"http://www.w3.org/2000/svg\" height=\"24px\"viewBox=\"0 0 24 24\"\n",
              "     width=\"24px\">\n",
              "    <g>\n",
              "        <path d=\"M19 3H5c-1.1 0-2 .9-2 2v14c0 1.1.9 2 2 2h14c1.1 0 2-.9 2-2V5c0-1.1-.9-2-2-2zM9 17H7v-7h2v7zm4 0h-2V7h2v10zm4 0h-2v-4h2v4z\"/>\n",
              "    </g>\n",
              "</svg>\n",
              "  </button>\n",
              "\n",
              "<style>\n",
              "  .colab-df-quickchart {\n",
              "      --bg-color: #E8F0FE;\n",
              "      --fill-color: #1967D2;\n",
              "      --hover-bg-color: #E2EBFA;\n",
              "      --hover-fill-color: #174EA6;\n",
              "      --disabled-fill-color: #AAA;\n",
              "      --disabled-bg-color: #DDD;\n",
              "  }\n",
              "\n",
              "  [theme=dark] .colab-df-quickchart {\n",
              "      --bg-color: #3B4455;\n",
              "      --fill-color: #D2E3FC;\n",
              "      --hover-bg-color: #434B5C;\n",
              "      --hover-fill-color: #FFFFFF;\n",
              "      --disabled-bg-color: #3B4455;\n",
              "      --disabled-fill-color: #666;\n",
              "  }\n",
              "\n",
              "  .colab-df-quickchart {\n",
              "    background-color: var(--bg-color);\n",
              "    border: none;\n",
              "    border-radius: 50%;\n",
              "    cursor: pointer;\n",
              "    display: none;\n",
              "    fill: var(--fill-color);\n",
              "    height: 32px;\n",
              "    padding: 0;\n",
              "    width: 32px;\n",
              "  }\n",
              "\n",
              "  .colab-df-quickchart:hover {\n",
              "    background-color: var(--hover-bg-color);\n",
              "    box-shadow: 0 1px 2px rgba(60, 64, 67, 0.3), 0 1px 3px 1px rgba(60, 64, 67, 0.15);\n",
              "    fill: var(--button-hover-fill-color);\n",
              "  }\n",
              "\n",
              "  .colab-df-quickchart-complete:disabled,\n",
              "  .colab-df-quickchart-complete:disabled:hover {\n",
              "    background-color: var(--disabled-bg-color);\n",
              "    fill: var(--disabled-fill-color);\n",
              "    box-shadow: none;\n",
              "  }\n",
              "\n",
              "  .colab-df-spinner {\n",
              "    border: 2px solid var(--fill-color);\n",
              "    border-color: transparent;\n",
              "    border-bottom-color: var(--fill-color);\n",
              "    animation:\n",
              "      spin 1s steps(1) infinite;\n",
              "  }\n",
              "\n",
              "  @keyframes spin {\n",
              "    0% {\n",
              "      border-color: transparent;\n",
              "      border-bottom-color: var(--fill-color);\n",
              "      border-left-color: var(--fill-color);\n",
              "    }\n",
              "    20% {\n",
              "      border-color: transparent;\n",
              "      border-left-color: var(--fill-color);\n",
              "      border-top-color: var(--fill-color);\n",
              "    }\n",
              "    30% {\n",
              "      border-color: transparent;\n",
              "      border-left-color: var(--fill-color);\n",
              "      border-top-color: var(--fill-color);\n",
              "      border-right-color: var(--fill-color);\n",
              "    }\n",
              "    40% {\n",
              "      border-color: transparent;\n",
              "      border-right-color: var(--fill-color);\n",
              "      border-top-color: var(--fill-color);\n",
              "    }\n",
              "    60% {\n",
              "      border-color: transparent;\n",
              "      border-right-color: var(--fill-color);\n",
              "    }\n",
              "    80% {\n",
              "      border-color: transparent;\n",
              "      border-right-color: var(--fill-color);\n",
              "      border-bottom-color: var(--fill-color);\n",
              "    }\n",
              "    90% {\n",
              "      border-color: transparent;\n",
              "      border-bottom-color: var(--fill-color);\n",
              "    }\n",
              "  }\n",
              "</style>\n",
              "\n",
              "  <script>\n",
              "    async function quickchart(key) {\n",
              "      const quickchartButtonEl =\n",
              "        document.querySelector('#' + key + ' button');\n",
              "      quickchartButtonEl.disabled = true;  // To prevent multiple clicks.\n",
              "      quickchartButtonEl.classList.add('colab-df-spinner');\n",
              "      try {\n",
              "        const charts = await google.colab.kernel.invokeFunction(\n",
              "            'suggestCharts', [key], {});\n",
              "      } catch (error) {\n",
              "        console.error('Error during call to suggestCharts:', error);\n",
              "      }\n",
              "      quickchartButtonEl.classList.remove('colab-df-spinner');\n",
              "      quickchartButtonEl.classList.add('colab-df-quickchart-complete');\n",
              "    }\n",
              "    (() => {\n",
              "      let quickchartButtonEl =\n",
              "        document.querySelector('#df-6924a147-46e1-4558-96ce-45ff2877207e button');\n",
              "      quickchartButtonEl.style.display =\n",
              "        google.colab.kernel.accessAllowed ? 'block' : 'none';\n",
              "    })();\n",
              "  </script>\n",
              "</div>\n",
              "\n",
              "    </div>\n",
              "  </div>\n"
            ],
            "application/vnd.google.colaboratory.intrinsic+json": {
              "type": "dataframe"
            }
          },
          "metadata": {},
          "execution_count": 54
        }
      ]
    },
    {
      "cell_type": "code",
      "source": [],
      "metadata": {
        "id": "ogARhS5bSWjB"
      },
      "execution_count": 54,
      "outputs": []
    },
    {
      "cell_type": "code",
      "source": [
        "column_info = df.dtypes\n",
        "print(column_info, \"\\n\")"
      ],
      "metadata": {
        "colab": {
          "base_uri": "https://localhost:8080/"
        },
        "id": "YfL8R4JnIic_",
        "outputId": "63993d19-7d38-454b-e8e2-480389f0bbe9"
      },
      "execution_count": 55,
      "outputs": [
        {
          "output_type": "stream",
          "name": "stdout",
          "text": [
            "Patient ID             object\n",
            "First Name             object\n",
            "Last Name              object\n",
            "DOB                    object\n",
            "Gender                 object\n",
            "Address                object\n",
            "Phone Number           object\n",
            "Emergency Contact      object\n",
            "Smoking Status         object\n",
            "Alcohol Consumption    object\n",
            "Exercise Habits        object\n",
            "Condition(s)           object\n",
            "Allergy                object\n",
            "Medications            object\n",
            "BP (mmHg)              object\n",
            "BMI                     int64\n",
            "Last Visit             object\n",
            "Diagnosis Code         object\n",
            "Treatment              object\n",
            "Insurance Provider     object\n",
            "Amount Billed          object\n",
            "dtype: object \n",
            "\n"
          ]
        }
      ]
    },
    {
      "cell_type": "code",
      "source": [
        "# Identify Categorical and Numerical Features\n",
        "categorical_features = df.select_dtypes(include=['object']).columns\n",
        "numerical_features = df.select_dtypes(include=['int64', 'float64']).columns\n",
        "\n",
        "print(\"Categorical Features:\", categorical_features)\n",
        "print(\"Numerical Features:\", numerical_features)"
      ],
      "metadata": {
        "colab": {
          "base_uri": "https://localhost:8080/"
        },
        "id": "Vsz0IEJnI0mI",
        "outputId": "36ced99e-8b65-4a16-ffe7-977b647d14b5"
      },
      "execution_count": 56,
      "outputs": [
        {
          "output_type": "stream",
          "name": "stdout",
          "text": [
            "Categorical Features: Index(['Patient ID', 'First Name', 'Last Name', 'DOB', 'Gender', 'Address',\n",
            "       'Phone Number', 'Emergency Contact', 'Smoking Status',\n",
            "       'Alcohol Consumption', 'Exercise Habits', 'Condition(s)', 'Allergy',\n",
            "       'Medications', 'BP (mmHg)', 'Last Visit', 'Diagnosis Code', 'Treatment',\n",
            "       'Insurance Provider', 'Amount Billed'],\n",
            "      dtype='object')\n",
            "Numerical Features: Index(['BMI'], dtype='object')\n"
          ]
        }
      ]
    },
    {
      "cell_type": "code",
      "source": [
        "# Get Unique Values for Categorical Features with Limitation\n",
        "def get_unique_values(col, max_display=10):\n",
        "    uniques = df[col].unique().tolist() # get unique values and turn them into lists\n",
        "    if len(uniques) > max_display: # if there are more than 10 unique values\n",
        "        return uniques[:max_display] + [\"...\"]\n",
        "    return uniques\n",
        "\n",
        "unique_values = {col: get_unique_values(col) for col in categorical_features}\n",
        "\n",
        "print(\"Unique Values for Categorical Features:\")\n",
        "for col, uniques in unique_values.items():\n",
        "    print(f\" - {col}: {uniques}\")\n",
        "print()"
      ],
      "metadata": {
        "colab": {
          "base_uri": "https://localhost:8080/"
        },
        "id": "lbkOZnuxJIR1",
        "outputId": "61a204f5-c1a1-4ff1-9c04-9495f9cce09d"
      },
      "execution_count": 57,
      "outputs": [
        {
          "output_type": "stream",
          "name": "stdout",
          "text": [
            "Unique Values for Categorical Features:\n",
            " - Patient ID: ['P0001', 'P0002', 'P0003', 'P0004', 'P0005', 'P0006', 'P0007', 'P0008', 'P0009', 'P0010', '...']\n",
            " - First Name: ['John', 'Sarah', 'David', 'Maria', 'Alice', 'Michael', 'Emma', 'Robert', 'Chloe', 'Ethan', '...']\n",
            " - Last Name: ['Doe', 'Lee', 'Kim', 'Perez', 'Wong', 'Brown', 'Smith', 'Davis', 'White', 'Hall', '...']\n",
            " - DOB: ['2/14/1975', '7/20/1982', '3/15/1990', '12/30/1967', '1/5/2002', '4/12/1985', '8/30/1999', '9/25/1978', '3/10/1987', '6/15/2000', '...']\n",
            " - Gender: ['M', 'F']\n",
            " - Address: ['ZIP 12345', 'ZIP 67890', 'ZIP 54321', 'ZIP 23456', 'ZIP 78901', 'ZIP 11223', 'ZIP 44556', 'ZIP 66778', 'ZIP 33445', 'ZIP 55667', '...']\n",
            " - Phone Number: ['555-1234', '555-5678', '555-9012', '555-3456', '555-6789', '555-1010', '555-1111', '555-2222', '555-3333', '555-4444', '...']\n",
            " - Emergency Contact: ['Jane Doe', 'Mike Lee', 'Emily Kim', 'Alex Perez', 'Nancy Wong', 'Lisa Brown', 'Oliver Smith', 'Ann Davis', 'Tom White', 'Mia Hall', '...']\n",
            " - Smoking Status: ['Non-Smoker', 'Smoker', 'Ex-Smoker']\n",
            " - Alcohol Consumption: ['Moderate', 'Heavy', nan, 'Light']\n",
            " - Exercise Habits: ['Regular (3x/wk)', 'Infrequent', 'Regular (5x/wk)', 'Moderate (2x/wk)', 'Regular (4x/wk)', 'Regular (2x/wk)', 'Moderate (3x/wk)']\n",
            " - Condition(s): ['Hypertension', 'Diabetes Type 2', 'Asthma, High Cholesterol', 'Osteoarthritis', nan, 'Hypertension, Diabetes', 'Migraine', 'COPD', 'Depression', 'High Cholesterol', '...']\n",
            " - Allergy: ['Penicillin', 'Latex', nan, 'NSAIDs', 'Sulfa', 'Aspirin']\n",
            " - Medications: ['Atenolol 50mg', 'Metformin 500mg', 'Statins 10mg', 'Ibuprofen 200mg', nan, 'Lisinopril 10mg', 'Sumatriptan 50mg', 'Albuterol Inhaler', 'Sertraline 100mg', 'Atorvastatin 20mg', '...']\n",
            " - BP (mmHg): ['130/85', '140/90', '120/80', '135/85', '110/70', '150/95', '120/75', '130/80', '115/70', '145/95', '...']\n",
            " - Last Visit: ['11/1/2024', '10/25/2024', '10/15/2024', '10/30/2024', '11/5/2024', '11/2/2024', '10/29/2024', '11/6/2024', '11/4/2024', '10/28/2024', '...']\n",
            " - Diagnosis Code: ['I10', 'E11', 'E78.5', 'M19.90', 'Z00.00', 'E11, I10', 'G43.9', 'J44.9', 'F32.9', 'I25.10', '...']\n",
            " - Treatment: ['Blood Pressure Check', 'Diabetes Mgmt', 'Cholesterol Mgmt', 'Joint Pain Mgmt', 'General Checkup', 'Chronic Care Mgmt', 'Migraine Mgmt', 'Respiratory Mgmt', 'Mental Health', 'Cardiac Care']\n",
            " - Insurance Provider: ['HealthCare Inc', 'Wellness Plan', 'Health Plus', 'SeniorCare', 'Youth Health', 'Medicare', 'HealthFirst', 'CarePlus', 'Health First']\n",
            " - Amount Billed: ['$150 ', '$200 ', '$120 ', '$180 ', '$80 ', '$250 ', '$130 ', '$175 ', '$90 ', '$160 ', '...']\n",
            "\n"
          ]
        }
      ]
    },
    {
      "cell_type": "code",
      "source": [
        "# Get Descriptive Statistics for Numerical Features\n",
        "numerical_stats = df[numerical_features].describe()\n",
        "print(\"Descriptive Statistics for Numerical Features:\\n\", numerical_stats, \"\\n\")"
      ],
      "metadata": {
        "colab": {
          "base_uri": "https://localhost:8080/"
        },
        "id": "dSV2E_SXKMC3",
        "outputId": "9939796f-6df0-45a1-8083-c8db5b98c678"
      },
      "execution_count": 58,
      "outputs": [
        {
          "output_type": "stream",
          "name": "stdout",
          "text": [
            "Descriptive Statistics for Numerical Features:\n",
            "              BMI\n",
            "count  20.000000\n",
            "mean   27.800000\n",
            "std     3.679245\n",
            "min    22.000000\n",
            "25%    24.750000\n",
            "50%    28.500000\n",
            "75%    30.000000\n",
            "max    35.000000 \n",
            "\n"
          ]
        }
      ]
    },
    {
      "cell_type": "code",
      "source": [
        "def generate_template(df,\n",
        "                      column_info,\n",
        "                      categorical_features,\n",
        "                      numerical_features,\n",
        "                      unique_values,\n",
        "                      numerical_stats):\n",
        "\n",
        "    # Construct a summary of the dataframe's structure\n",
        "    column_summary = \"Column Names and Data Types:\\n\"\n",
        "    for col, dtype in column_info.items():\n",
        "        column_summary += f\" - {col}: {dtype}\\n\"\n",
        "\n",
        "    # Unique values for categorical features\n",
        "    unique_values_str = \"Unique Values for Categorical Features:\\n\"\n",
        "    for col, uniques in unique_values.items():\n",
        "        unique_values_str += f\" - {col}: {uniques}\\n\"\n",
        "\n",
        "    # Descriptive statistics for numerical features\n",
        "    numerical_stats_str = \"Descriptive Statistics for Numerical Features:\\n\"\n",
        "    for col in numerical_features:\n",
        "        numerical_stats_str += f\" - {col}:\\n\"\n",
        "        for stat_name, value in numerical_stats[col].items():\n",
        "            numerical_stats_str += f\"   {stat_name}: {value}\\n\"\n",
        "\n",
        "    # Define the system prompt\n",
        "    system_prompt = \"\"\"You are an intelligent assistant that creates descriptive templates for transforming dataframe rows into coherent paragraphs.\n",
        "    Analyze the provided dataframe structure and generate a template sentence that includes placeholders for each column.\n",
        "    Ensure the template is contextually relevant and maintains grammatical correctness.\"\"\"\n",
        "\n",
        "    # Define the user prompt\n",
        "    user_prompt = user_prompt = f\"\"\"\n",
        "    Analyze the following dataframe structure and create a descriptive template with placeholders for each column.\n",
        "\n",
        "    <column_summary>\n",
        "    {column_summary}\n",
        "    </column_summary>\n",
        "\n",
        "    <unique_values>\n",
        "    {unique_values_str}\n",
        "    </unique_values>\n",
        "\n",
        "    <numerical_stats>\n",
        "    {numerical_stats_str}\n",
        "    </numerical_stats>\n",
        "\n",
        "    Use the exact column names from the column_summary in generating the variable names in the template,\n",
        "    as they will be populated with the actual values in the dataset.\n",
        "\n",
        "    Example Template about a Spotify dataset:\n",
        "    \"{{artist}} gained {{streams}} streams in the song '{{song}}' that was a hit in {{date}}.\"\n",
        "\n",
        "    Output only the template without any explanation or introduction.\n",
        "    The template's variables will be dynamically replaced so make sure they're formatted properly.\"\"\"\n",
        "\n",
        "    # Generate the template (with retries)\n",
        "    retries = 3\n",
        "    for attempt in range(retries):\n",
        "        try:\n",
        "            response = openai.ChatCompletion.create(\n",
        "                model=\"gpt-4o-mini\",\n",
        "                temperature=0.3,\n",
        "                max_tokens=1024,\n",
        "                messages=[\n",
        "                    {\"role\": \"system\", \"content\": system_prompt},\n",
        "                    {\"role\": \"user\", \"content\": user_prompt}\n",
        "                ]\n",
        "            )\n",
        "            template = response['choices'][0]['message']['content'].strip()\n",
        "            return template\n",
        "        except Exception as e:\n",
        "            print(f\"Error generating template (Attempt {attempt + 1}/{retries}): {e}\")\n",
        "            time.sleep(2)  # Wait before retrying\n",
        "\n",
        "    return None"
      ],
      "metadata": {
        "id": "njh_7mftKtYF"
      },
      "execution_count": 59,
      "outputs": []
    },
    {
      "cell_type": "code",
      "source": [
        "# Generate the template\n",
        "template = generate_template(df,\n",
        "                             column_info,\n",
        "                             categorical_features,\n",
        "                             numerical_features,\n",
        "                             unique_values,\n",
        "                             numerical_stats)\n",
        "\n",
        "print(template)"
      ],
      "metadata": {
        "id": "27lVvD7PPCRI",
        "colab": {
          "base_uri": "https://localhost:8080/"
        },
        "outputId": "c4eafb19-b534-4403-dc08-07a364d27bfe"
      },
      "execution_count": 60,
      "outputs": [
        {
          "output_type": "stream",
          "name": "stdout",
          "text": [
            "\"Patient {Patient ID}, {First Name} {Last Name}, born on {DOB}, identifies as {Gender} and resides at {Address}. They can be reached at {Phone Number} and their emergency contact is {Emergency Contact}. Currently, their smoking status is {Smoking Status}, and they report {Alcohol Consumption} alcohol consumption along with {Exercise Habits} exercise habits. The patient has the following condition(s): {Condition(s)}, and is allergic to {Allergy}. They are currently taking the following medications: {Medications}. Their blood pressure reading is {BP (mmHg)} and their BMI is {BMI}. The last visit was on {Last Visit}, with a diagnosis code of {Diagnosis Code} and the treatment provided was {Treatment}. The insurance provider for this patient is {Insurance Provider}, and the amount billed was {Amount Billed}.\"\n"
          ]
        }
      ]
    },
    {
      "cell_type": "code",
      "source": [
        "def populate_template(template, row):\n",
        "\n",
        "    # Convert row to dictionary and replace NaN with 'N/A'\n",
        "    row_dict = row.to_dict()\n",
        "    for key, value in row_dict.items():\n",
        "        if pd.isna(value):\n",
        "            row_dict[key] = 'N/A'\n",
        "\n",
        "    # Generate the populated template per row\n",
        "    paragraph = template.format(**row_dict)\n",
        "\n",
        "    return paragraph"
      ],
      "metadata": {
        "id": "RpILMZo6PY5A"
      },
      "execution_count": 61,
      "outputs": []
    },
    {
      "cell_type": "code",
      "source": [
        "# Apply the populate_template function to each row in the dataframe\n",
        "df['paragraph'] = df.apply(lambda row: populate_template(template, row), axis=1)"
      ],
      "metadata": {
        "id": "u634iP7xQwd_"
      },
      "execution_count": 62,
      "outputs": []
    },
    {
      "cell_type": "code",
      "source": [
        "df['paragraph'][0]"
      ],
      "metadata": {
        "colab": {
          "base_uri": "https://localhost:8080/",
          "height": 107
        },
        "id": "tdOARkhKQ9Te",
        "outputId": "b6a01095-8108-476d-8b81-49f38077692b"
      },
      "execution_count": 63,
      "outputs": [
        {
          "output_type": "execute_result",
          "data": {
            "text/plain": [
              "'\"Patient P0001, John Doe, born on 2/14/1975, identifies as M and resides at ZIP 12345. They can be reached at 555-1234 and their emergency contact is Jane Doe. Currently, their smoking status is Non-Smoker, and they report Moderate alcohol consumption along with Regular (3x/wk) exercise habits. The patient has the following condition(s): Hypertension, and is allergic to Penicillin. They are currently taking the following medications: Atenolol 50mg. Their blood pressure reading is 130/85 and their BMI is 28. The last visit was on 11/1/2024, with a diagnosis code of I10 and the treatment provided was Blood Pressure Check. The insurance provider for this patient is HealthCare Inc, and the amount billed was $150 .\"'"
            ],
            "application/vnd.google.colaboratory.intrinsic+json": {
              "type": "string"
            }
          },
          "metadata": {},
          "execution_count": 63
        }
      ]
    },
    {
      "cell_type": "code",
      "source": [
        "def save_content_to_txt(paragraphs, txt_filename):\n",
        "    try:\n",
        "        with open(txt_filename, 'w', encoding='utf-8') as file:\n",
        "\n",
        "            for para in paragraphs:\n",
        "                file.write(para + '\\n\\n')  # Double newline for separation\n",
        "\n",
        "        print(f\"All content has been saved as '{txt_filename}'.\\n\")\n",
        "    except Exception as e:\n",
        "        print(f\"Error saving content to text file: {e}\")"
      ],
      "metadata": {
        "id": "stkOFnDIS4bO"
      },
      "execution_count": 64,
      "outputs": []
    },
    {
      "cell_type": "code",
      "source": [
        "def save_content_to_pdf(paragraphs, pdf_filename):\n",
        "    try:\n",
        "        pdf = FPDF()\n",
        "        pdf.add_page()\n",
        "        pdf.set_auto_page_break(auto=True, margin=15)\n",
        "        pdf.set_font(\"Arial\", size=12)\n",
        "\n",
        "        # Add each paragraph\n",
        "        for para in paragraphs:\n",
        "            pdf.multi_cell(0, 10, para)\n",
        "            pdf.ln()  # Add a line break between paragraphs\n",
        "\n",
        "        pdf.output(pdf_filename)\n",
        "        print(f\"All content has been saved as '{pdf_filename}'.\\n\")\n",
        "    except Exception as e:\n",
        "        print(f\"Error saving content to PDF: {e}\")"
      ],
      "metadata": {
        "id": "6cLhh3DRTJKo"
      },
      "execution_count": 65,
      "outputs": []
    },
    {
      "cell_type": "code",
      "source": [
        "# Save the paragraphs to both text and PDF files\n",
        "save_content_to_txt(df['paragraph'].to_list(),\n",
        "                    txt_filename='nlg.txt')\n",
        "\n",
        "save_content_to_pdf(df['paragraph'].to_list(),\n",
        "                    pdf_filename='nlg.pdf')"
      ],
      "metadata": {
        "colab": {
          "base_uri": "https://localhost:8080/"
        },
        "id": "D0nRQTW4TRrm",
        "outputId": "23dd95f0-cc7f-4e38-c746-39e65dc1ef8f"
      },
      "execution_count": 66,
      "outputs": [
        {
          "output_type": "stream",
          "name": "stdout",
          "text": [
            "All content has been saved as 'nlg.txt'.\n",
            "\n",
            "All content has been saved as 'nlg.pdf'.\n",
            "\n"
          ]
        }
      ]
    }
  ]
}